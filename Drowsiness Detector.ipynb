{
 "cells": [
  {
   "cell_type": "code",
   "execution_count": 1,
   "metadata": {},
   "outputs": [
    {
     "name": "stdout",
     "output_type": "stream",
     "text": [
      "pygame 2.5.2 (SDL 2.28.3, Python 3.6.13)\n",
      "Hello from the pygame community. https://www.pygame.org/contribute.html\n"
     ]
    }
   ],
   "source": [
    "from pygame import mixer\n",
    "import time\n",
    "from playsound import playsound as ps"
   ]
  },
  {
   "cell_type": "code",
   "execution_count": 4,
   "metadata": {},
   "outputs": [],
   "source": [
    "import cv2\n",
    "import dlib\n",
    "from scipy.spatial import distance\n",
    "\n",
    "# INITIALIZING THE MIXER SO THAT ALERT AUDIO MESSAGE CAN BE DELIVERED\n",
    "mixer.init()\n",
    "sound = mixer.Sound('alarm.wav')\n",
    "\n",
    "\n",
    "# SETTING UP OF CAMERA TO 1 YOU CAN EVEN CHOOSE 0 IN PLACE OF 1\n",
    "cap = cv2.VideoCapture(0)\n",
    "\n",
    "# FACE DETECTION OR MAPPING THE FACE TO\n",
    "# GET THE Eye AND EYES DETECTED\n",
    "face_detector = dlib.get_frontal_face_detector()\n",
    "\n",
    "# PUT THE LOCATION OF .DAT FILE (FILE FOR PREDECTING THE LANDMARKS ON FACE )\n",
    "dlib_facelandmark = dlib.shape_predictor(\"shape_predictor_68_face_landmarks.dat\")\n",
    "\n",
    "# FUNCTION CALCULATING THE ASPECT RATIO FOR THE Eye BY USING EUCLIDEAN DISTANCE FUNCTION\n",
    "def Detect_Eye(eye):\n",
    "    poi_A = distance.euclidean(eye[1], eye[5])\n",
    "    poi_B = distance.euclidean(eye[2], eye[4])\n",
    "    poi_C = distance.euclidean(eye[0], eye[3])\n",
    "    aspect_ratio_Eye = (poi_A+poi_B)/(2*poi_C)\n",
    "    return aspect_ratio_Eye\n",
    "\n",
    "\n",
    "# MAIN LOOP IT WILL RUN ALL THE UNLESS AND \n",
    "# UNTIL THE PROGRAM IS BEING KILLED BY THE USER\n",
    "while True:\n",
    "    null, frame = cap.read()\n",
    "    gray_scale = cv2.cvtColor(frame,cv2.COLOR_BGR2GRAY)\n",
    "    faces = face_detector(gray_scale)\n",
    "    for face in faces:\n",
    "        face_landmarks = dlib_facelandmark(gray_scale, face)\n",
    "        leftEye = [] \n",
    "        rightEye = [] \n",
    "        # THESE ARE THE POINTS ALLOCATION FOR THE LEFT EYES IN .DAT FILE THAT ARE FROM 42 TO 47\n",
    "        for n in range(42, 48):\n",
    "            x = face_landmarks.part(n).x\n",
    "            y = face_landmarks.part(n).y\n",
    "            rightEye.append((x, y))\n",
    "            next_point = n+1\n",
    "            if n == 47:\n",
    "                next_point = 42\n",
    "            x2 = face_landmarks.part(next_point).x\n",
    "            y2 = face_landmarks.part(next_point).y\n",
    "            cv2.line(frame, (x, y), (x2, y2), (0, 255, 0), 1)\n",
    "        # THESE ARE THE POINTS ALLOCATION FOR THE RIGHT EYES IN .DAT FILE THAT ARE FROM 36 TO 41\n",
    "        for n in range(36, 42):\n",
    "            x = face_landmarks.part(n).x\n",
    "            y = face_landmarks.part(n).y\n",
    "            leftEye.append((x, y))\n",
    "            next_point = n+1\n",
    "            if n == 41:\n",
    "                next_point = 36\n",
    "            x2 = face_landmarks.part(next_point).x\n",
    "            y2 = face_landmarks.part(next_point).y\n",
    "            cv2.line(frame, (x, y), (x2, y2), (255, 255, 0), 1)\n",
    "            \n",
    "    # CALCULATING THE ASPECT RATIO FOR LEFT AND RIGHT EYE\n",
    "        right_Eye = Detect_Eye(rightEye)\n",
    "        left_Eye = Detect_Eye(leftEye)\n",
    "        Eye_Rat = (left_Eye+right_Eye)/2\n",
    "\n",
    "        # NOW ROUND OF THE VALUE OF AVERAGE MEAN OF RIGHT AND LEFT EYES\n",
    "        Eye_Rat = round(Eye_Rat, 2)\n",
    "\n",
    "\t\t# THIS VALUE OF 0.3 WILL DECIDE WHETHER THE PERSONS'S EYES ARE CLOSE OR NOT\n",
    "        if Eye_Rat < 0.3:\n",
    "            cv2.putText(frame, \"DROWSINESS DETECTED\", (50, 100), cv2.FONT_HERSHEY_PLAIN, 2, (21, 56, 210), 3)\n",
    "            cv2.putText(frame, \"Alert!!!! WAKE UP.\", (50, 450), cv2.FONT_HERSHEY_PLAIN, 2, (21, 56, 212), 3)\n",
    "            \n",
    "            # PLAYING THE ALARM\n",
    "            sound.play()\n",
    "            time.sleep(0.25)\n",
    "\n",
    "    \n",
    "    cv2.imshow(\"DROWSINESS DETECTOR IN OPENCV2\", frame)\n",
    "    if cv2.waitKey(1)==ord('s'):   # Press 's' to exit\n",
    "        break\n",
    "cap.release()\n",
    "cv2.destroyAllWindows()"
   ]
  },
  {
   "cell_type": "code",
   "execution_count": null,
   "metadata": {},
   "outputs": [],
   "source": []
  },
  {
   "cell_type": "code",
   "execution_count": null,
   "metadata": {},
   "outputs": [],
   "source": []
  },
  {
   "cell_type": "code",
   "execution_count": null,
   "metadata": {},
   "outputs": [],
   "source": []
  }
 ],
 "metadata": {
  "kernelspec": {
   "display_name": "Python 3 (ipykernel)",
   "language": "python",
   "name": "python3"
  },
  "language_info": {
   "codemirror_mode": {
    "name": "ipython",
    "version": 3
   },
   "file_extension": ".py",
   "mimetype": "text/x-python",
   "name": "python",
   "nbconvert_exporter": "python",
   "pygments_lexer": "ipython3",
   "version": "3.6.13"
  }
 },
 "nbformat": 4,
 "nbformat_minor": 4
}
